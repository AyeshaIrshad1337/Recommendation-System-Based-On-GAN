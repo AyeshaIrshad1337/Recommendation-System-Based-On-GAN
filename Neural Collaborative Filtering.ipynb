{
 "cells": [
  {
   "cell_type": "code",
   "execution_count": 1,
   "id": "8e9888ca-2c64-47cb-b752-e2b4117b6c0b",
   "metadata": {},
   "outputs": [],
   "source": [
    "import pandas as pd\n",
    "import numpy as np\n",
    "from sklearn.model_selection import train_test_split\n",
    "\n",
    "dataset = pd.read_csv(\"ratings.csv\", header=0, names=['user_id', 'movie_id', 'rating', 'timestamp'])\n"
   ]
  },
  {
   "cell_type": "code",
   "execution_count": 2,
   "id": "ac083f73-c868-4d61-a1fc-cda027f0df82",
   "metadata": {},
   "outputs": [
    {
     "data": {
      "text/html": [
       "<div>\n",
       "<style scoped>\n",
       "    .dataframe tbody tr th:only-of-type {\n",
       "        vertical-align: middle;\n",
       "    }\n",
       "\n",
       "    .dataframe tbody tr th {\n",
       "        vertical-align: top;\n",
       "    }\n",
       "\n",
       "    .dataframe thead th {\n",
       "        text-align: right;\n",
       "    }\n",
       "</style>\n",
       "<table border=\"1\" class=\"dataframe\">\n",
       "  <thead>\n",
       "    <tr style=\"text-align: right;\">\n",
       "      <th></th>\n",
       "      <th>user_id</th>\n",
       "      <th>movie_id</th>\n",
       "      <th>rating</th>\n",
       "      <th>timestamp</th>\n",
       "    </tr>\n",
       "  </thead>\n",
       "  <tbody>\n",
       "    <tr>\n",
       "      <th>0</th>\n",
       "      <td>1</td>\n",
       "      <td>1</td>\n",
       "      <td>4.0</td>\n",
       "      <td>964982703</td>\n",
       "    </tr>\n",
       "    <tr>\n",
       "      <th>1</th>\n",
       "      <td>1</td>\n",
       "      <td>3</td>\n",
       "      <td>4.0</td>\n",
       "      <td>964981247</td>\n",
       "    </tr>\n",
       "    <tr>\n",
       "      <th>2</th>\n",
       "      <td>1</td>\n",
       "      <td>6</td>\n",
       "      <td>4.0</td>\n",
       "      <td>964982224</td>\n",
       "    </tr>\n",
       "    <tr>\n",
       "      <th>3</th>\n",
       "      <td>1</td>\n",
       "      <td>47</td>\n",
       "      <td>5.0</td>\n",
       "      <td>964983815</td>\n",
       "    </tr>\n",
       "    <tr>\n",
       "      <th>4</th>\n",
       "      <td>1</td>\n",
       "      <td>50</td>\n",
       "      <td>5.0</td>\n",
       "      <td>964982931</td>\n",
       "    </tr>\n",
       "    <tr>\n",
       "      <th>...</th>\n",
       "      <td>...</td>\n",
       "      <td>...</td>\n",
       "      <td>...</td>\n",
       "      <td>...</td>\n",
       "    </tr>\n",
       "    <tr>\n",
       "      <th>100831</th>\n",
       "      <td>610</td>\n",
       "      <td>166534</td>\n",
       "      <td>4.0</td>\n",
       "      <td>1493848402</td>\n",
       "    </tr>\n",
       "    <tr>\n",
       "      <th>100832</th>\n",
       "      <td>610</td>\n",
       "      <td>168248</td>\n",
       "      <td>5.0</td>\n",
       "      <td>1493850091</td>\n",
       "    </tr>\n",
       "    <tr>\n",
       "      <th>100833</th>\n",
       "      <td>610</td>\n",
       "      <td>168250</td>\n",
       "      <td>5.0</td>\n",
       "      <td>1494273047</td>\n",
       "    </tr>\n",
       "    <tr>\n",
       "      <th>100834</th>\n",
       "      <td>610</td>\n",
       "      <td>168252</td>\n",
       "      <td>5.0</td>\n",
       "      <td>1493846352</td>\n",
       "    </tr>\n",
       "    <tr>\n",
       "      <th>100835</th>\n",
       "      <td>610</td>\n",
       "      <td>170875</td>\n",
       "      <td>3.0</td>\n",
       "      <td>1493846415</td>\n",
       "    </tr>\n",
       "  </tbody>\n",
       "</table>\n",
       "<p>100836 rows × 4 columns</p>\n",
       "</div>"
      ],
      "text/plain": [
       "        user_id  movie_id  rating   timestamp\n",
       "0             1         1     4.0   964982703\n",
       "1             1         3     4.0   964981247\n",
       "2             1         6     4.0   964982224\n",
       "3             1        47     5.0   964983815\n",
       "4             1        50     5.0   964982931\n",
       "...         ...       ...     ...         ...\n",
       "100831      610    166534     4.0  1493848402\n",
       "100832      610    168248     5.0  1493850091\n",
       "100833      610    168250     5.0  1494273047\n",
       "100834      610    168252     5.0  1493846352\n",
       "100835      610    170875     3.0  1493846415\n",
       "\n",
       "[100836 rows x 4 columns]"
      ]
     },
     "execution_count": 2,
     "metadata": {},
     "output_type": "execute_result"
    }
   ],
   "source": [
    "dataset"
   ]
  },
  {
   "cell_type": "code",
   "execution_count": 3,
   "id": "2215a050",
   "metadata": {},
   "outputs": [
    {
     "name": "stdout",
     "output_type": "stream",
     "text": [
      "Number of movies 9724\n",
      "Number of users 610\n"
     ]
    }
   ],
   "source": [
    "\n",
    "# Need to map movie ID to [1, num_movies]\n",
    "movie_id_to_new_id = dict()\n",
    "id = 1\n",
    "for index, row in dataset.iterrows():\n",
    "    if movie_id_to_new_id.get(row['movie_id']) is None:\n",
    "        movie_id_to_new_id[row['movie_id']] = id\n",
    "        dataset.at[index, 'movie_id'] = id\n",
    "        id += 1\n",
    "    else:\n",
    "        dataset.at[index, 'movie_id'] = movie_id_to_new_id.get(row['movie_id'])\n",
    "\n",
    "num_users = len(dataset.user_id.unique())\n",
    "num_movies = len(dataset.movie_id.unique())\n",
    "train, test = train_test_split(dataset, test_size=0.2)\n",
    "\n",
    "print('Number of movies', num_movies)\n",
    "print('Number of users', num_users)\n"
   ]
  },
  {
   "cell_type": "code",
   "execution_count": 4,
   "id": "218e1d44-5fb3-4d6c-a2d8-4dce81e4ed5c",
   "metadata": {},
   "outputs": [],
   "source": [
    "#dataset"
   ]
  },
  {
   "cell_type": "code",
   "execution_count": 5,
   "id": "0fbd854c",
   "metadata": {},
   "outputs": [
    {
     "data": {
      "text/html": [
       "<div>\n",
       "<style scoped>\n",
       "    .dataframe tbody tr th:only-of-type {\n",
       "        vertical-align: middle;\n",
       "    }\n",
       "\n",
       "    .dataframe tbody tr th {\n",
       "        vertical-align: top;\n",
       "    }\n",
       "\n",
       "    .dataframe thead th {\n",
       "        text-align: right;\n",
       "    }\n",
       "</style>\n",
       "<table border=\"1\" class=\"dataframe\">\n",
       "  <thead>\n",
       "    <tr style=\"text-align: right;\">\n",
       "      <th></th>\n",
       "      <th>user_id</th>\n",
       "      <th>movie_id</th>\n",
       "      <th>rating</th>\n",
       "      <th>timestamp</th>\n",
       "    </tr>\n",
       "  </thead>\n",
       "  <tbody>\n",
       "    <tr>\n",
       "      <th>1188</th>\n",
       "      <td>10</td>\n",
       "      <td>905</td>\n",
       "      <td>3.0</td>\n",
       "      <td>1455357531</td>\n",
       "    </tr>\n",
       "    <tr>\n",
       "      <th>66488</th>\n",
       "      <td>428</td>\n",
       "      <td>1141</td>\n",
       "      <td>4.0</td>\n",
       "      <td>1111525076</td>\n",
       "    </tr>\n",
       "    <tr>\n",
       "      <th>55175</th>\n",
       "      <td>365</td>\n",
       "      <td>6586</td>\n",
       "      <td>0.5</td>\n",
       "      <td>1488945273</td>\n",
       "    </tr>\n",
       "    <tr>\n",
       "      <th>72437</th>\n",
       "      <td>468</td>\n",
       "      <td>585</td>\n",
       "      <td>2.0</td>\n",
       "      <td>831400500</td>\n",
       "    </tr>\n",
       "    <tr>\n",
       "      <th>55903</th>\n",
       "      <td>369</td>\n",
       "      <td>91</td>\n",
       "      <td>4.0</td>\n",
       "      <td>1236830423</td>\n",
       "    </tr>\n",
       "  </tbody>\n",
       "</table>\n",
       "</div>"
      ],
      "text/plain": [
       "       user_id  movie_id  rating   timestamp\n",
       "1188        10       905     3.0  1455357531\n",
       "66488      428      1141     4.0  1111525076\n",
       "55175      365      6586     0.5  1488945273\n",
       "72437      468       585     2.0   831400500\n",
       "55903      369        91     4.0  1236830423"
      ]
     },
     "execution_count": 5,
     "metadata": {},
     "output_type": "execute_result"
    }
   ],
   "source": [
    "train.head()"
   ]
  },
  {
   "cell_type": "code",
   "execution_count": 6,
   "id": "efd2001e",
   "metadata": {},
   "outputs": [
    {
     "data": {
      "text/html": [
       "<div>\n",
       "<style scoped>\n",
       "    .dataframe tbody tr th:only-of-type {\n",
       "        vertical-align: middle;\n",
       "    }\n",
       "\n",
       "    .dataframe tbody tr th {\n",
       "        vertical-align: top;\n",
       "    }\n",
       "\n",
       "    .dataframe thead th {\n",
       "        text-align: right;\n",
       "    }\n",
       "</style>\n",
       "<table border=\"1\" class=\"dataframe\">\n",
       "  <thead>\n",
       "    <tr style=\"text-align: right;\">\n",
       "      <th></th>\n",
       "      <th>user_id</th>\n",
       "      <th>movie_id</th>\n",
       "      <th>rating</th>\n",
       "      <th>timestamp</th>\n",
       "    </tr>\n",
       "  </thead>\n",
       "  <tbody>\n",
       "    <tr>\n",
       "      <th>93821</th>\n",
       "      <td>599</td>\n",
       "      <td>4930</td>\n",
       "      <td>2.0</td>\n",
       "      <td>1498510211</td>\n",
       "    </tr>\n",
       "    <tr>\n",
       "      <th>88824</th>\n",
       "      <td>573</td>\n",
       "      <td>1125</td>\n",
       "      <td>4.5</td>\n",
       "      <td>1186589732</td>\n",
       "    </tr>\n",
       "    <tr>\n",
       "      <th>15673</th>\n",
       "      <td>103</td>\n",
       "      <td>1508</td>\n",
       "      <td>4.0</td>\n",
       "      <td>1431969969</td>\n",
       "    </tr>\n",
       "    <tr>\n",
       "      <th>62333</th>\n",
       "      <td>414</td>\n",
       "      <td>2422</td>\n",
       "      <td>3.0</td>\n",
       "      <td>961518581</td>\n",
       "    </tr>\n",
       "    <tr>\n",
       "      <th>80471</th>\n",
       "      <td>509</td>\n",
       "      <td>734</td>\n",
       "      <td>3.0</td>\n",
       "      <td>1436024257</td>\n",
       "    </tr>\n",
       "  </tbody>\n",
       "</table>\n",
       "</div>"
      ],
      "text/plain": [
       "       user_id  movie_id  rating   timestamp\n",
       "93821      599      4930     2.0  1498510211\n",
       "88824      573      1125     4.5  1186589732\n",
       "15673      103      1508     4.0  1431969969\n",
       "62333      414      2422     3.0   961518581\n",
       "80471      509       734     3.0  1436024257"
      ]
     },
     "execution_count": 6,
     "metadata": {},
     "output_type": "execute_result"
    }
   ],
   "source": [
    "test.head()"
   ]
  },
  {
   "cell_type": "code",
   "execution_count": 7,
   "id": "d9db31e5",
   "metadata": {},
   "outputs": [
    {
     "name": "stdout",
     "output_type": "stream",
     "text": [
      "Collecting pydot\n",
      "  Downloading pydot-2.0.0-py3-none-any.whl.metadata (9.6 kB)\n",
      "Requirement already satisfied: pyparsing>=3 in d:\\machine-learning-lab\\.conda\\lib\\site-packages (from pydot) (3.1.1)\n",
      "Downloading pydot-2.0.0-py3-none-any.whl (22 kB)\n",
      "Installing collected packages: pydot\n",
      "Successfully installed pydot-2.0.0\n"
     ]
    }
   ],
   "source": [
    "!pip install pydot"
   ]
  },
  {
   "cell_type": "markdown",
   "id": "fda32505",
   "metadata": {},
   "source": [
    "# MATRIX FACTORIZATION"
   ]
  },
  {
   "cell_type": "code",
   "execution_count": 8,
   "id": "210d03b0",
   "metadata": {},
   "outputs": [
    {
     "name": "stderr",
     "output_type": "stream",
     "text": [
      "d:\\Machine-Learning-Lab\\.conda\\lib\\site-packages\\requests\\__init__.py:102: RequestsDependencyWarning: urllib3 (1.26.18) or chardet (5.2.0)/charset_normalizer (2.0.12) doesn't match a supported version!\n",
      "  warnings.warn(\"urllib3 ({}) or chardet ({})/charset_normalizer ({}) doesn't match a supported \"\n"
     ]
    },
    {
     "name": "stdout",
     "output_type": "stream",
     "text": [
      "Model: \"model\"\n",
      "__________________________________________________________________________________________________\n",
      " Layer (type)                Output Shape                 Param #   Connected to                  \n",
      "==================================================================================================\n",
      " movie-input (InputLayer)    [(None, 1)]                  0         []                            \n",
      "                                                                                                  \n",
      " user-input (InputLayer)     [(None, 1)]                  0         []                            \n",
      "                                                                                                  \n",
      " movie-embedding (Embedding  (None, 1, 10)                97250     ['movie-input[0][0]']         \n",
      " )                                                                                                \n",
      "                                                                                                  \n",
      " user-embedding (Embedding)  (None, 1, 10)                6110      ['user-input[0][0]']          \n",
      "                                                                                                  \n",
      " movie-flatten (Flatten)     (None, 10)                   0         ['movie-embedding[0][0]']     \n",
      "                                                                                                  \n",
      " user-flatten (Flatten)      (None, 10)                   0         ['user-embedding[0][0]']      \n",
      "                                                                                                  \n",
      " dot-product (Dot)           (None, 1)                    0         ['movie-flatten[0][0]',       \n",
      "                                                                     'user-flatten[0][0]']        \n",
      "                                                                                                  \n",
      "==================================================================================================\n",
      "Total params: 103360 (403.75 KB)\n",
      "Trainable params: 103360 (403.75 KB)\n",
      "Non-trainable params: 0 (0.00 Byte)\n",
      "__________________________________________________________________________________________________\n"
     ]
    }
   ],
   "source": [
    "from keras.models import Model\n",
    "from keras.layers import Embedding, Flatten, Input, dot\n",
    "\n",
    "# Let's use a higher latent dimension.\n",
    "latent_dim = 10\n",
    "\n",
    "# Define model inputs\n",
    "movie_input = Input(shape=[1], name='movie-input')\n",
    "user_input = Input(shape=[1], name='user-input')\n",
    "\n",
    "# Define embeddings for movies and users\n",
    "movie_embedding = Embedding(num_movies + 1, latent_dim, name='movie-embedding')(movie_input)\n",
    "user_embedding = Embedding(num_users + 1, latent_dim, name='user-embedding')(user_input)\n",
    "\n",
    "# Flatten the embeddings\n",
    "movie_vec = Flatten(name='movie-flatten')(movie_embedding)\n",
    "user_vec = Flatten(name='user-flatten')(user_embedding)\n",
    "\n",
    "# Compute dot product of movie and user embeddings\n",
    "prod = dot([movie_vec, user_vec], axes=-1, normalize=False, name='dot-product')\n",
    "\n",
    "# Define the model\n",
    "model = Model([user_input, movie_input], prod)\n",
    "\n",
    "# Display the model summary\n",
    "model.summary()\n"
   ]
  },
  {
   "cell_type": "code",
   "execution_count": 9,
   "id": "bd7829d5",
   "metadata": {},
   "outputs": [
    {
     "name": "stdout",
     "output_type": "stream",
     "text": [
      "Epoch 1/10\n",
      "2521/2521 [==============================] - 9s 3ms/step - loss: 10.9966\n",
      "Epoch 2/10\n",
      "2521/2521 [==============================] - 8s 3ms/step - loss: 3.5976\n",
      "Epoch 3/10\n",
      "2521/2521 [==============================] - 7s 3ms/step - loss: 1.8964\n",
      "Epoch 4/10\n",
      "2521/2521 [==============================] - 8s 3ms/step - loss: 1.3350\n",
      "Epoch 5/10\n",
      "2521/2521 [==============================] - 7s 3ms/step - loss: 1.0754\n",
      "Epoch 6/10\n",
      "2521/2521 [==============================] - 7s 3ms/step - loss: 0.9343\n",
      "Epoch 7/10\n",
      "2521/2521 [==============================] - 9s 4ms/step - loss: 0.8484\n",
      "Epoch 8/10\n",
      "2521/2521 [==============================] - 10s 4ms/step - loss: 0.7912\n",
      "Epoch 9/10\n",
      "2521/2521 [==============================] - 11s 4ms/step - loss: 0.7492\n",
      "Epoch 10/10\n",
      "2521/2521 [==============================] - 9s 4ms/step - loss: 0.7164\n"
     ]
    },
    {
     "data": {
      "image/png": "[encoded data removed]",
      "text/plain": [
       "<Figure size 640x480 with 1 Axes>"
      ]
     },
     "metadata": {},
     "output_type": "display_data"
    },
    {
     "name": "stdout",
     "output_type": "stream",
     "text": [
      "631/631 [==============================] - 1s 2ms/step\n",
      "Mean Absolute Error: 0.7795180476572438\n"
     ]
    }
   ],
   "source": [
    "import matplotlib.pyplot as plt\n",
    "from sklearn.metrics import mean_absolute_error\n",
    "\n",
    "# Compile the model\n",
    "model.compile(optimizer='adam', loss='mean_squared_error')\n",
    "\n",
    "# Train the model\n",
    "history = model.fit([train.user_id, train.movie_id], train.rating, epochs=10)\n",
    "\n",
    "# Plot training loss\n",
    "plt.plot(history.history['loss'])\n",
    "plt.xlabel(\"Epoch\")\n",
    "plt.ylabel(\"Train Error\")\n",
    "plt.show()\n",
    "\n",
    "# Evaluate the model\n",
    "y_hat = np.round(model.predict([test.user_id, test.movie_id]), decimals=2)\n",
    "y_true = test.rating\n",
    "mae = mean_absolute_error(y_true, y_hat)\n",
    "print(\"Mean Absolute Error:\", mae)\n"
   ]
  },
  {
   "cell_type": "code",
   "execution_count": 10,
   "id": "7eae18dd-ff27-4fcc-8b4b-3e3256ab5664",
   "metadata": {},
   "outputs": [
    {
     "data": {
      "text/plain": [
       "array([[2.51],\n",
       "       [4.5 ],\n",
       "       [3.39],\n",
       "       ...,\n",
       "       [3.49],\n",
       "       [1.83],\n",
       "       [3.35]], dtype=float32)"
      ]
     },
     "execution_count": 10,
     "metadata": {},
     "output_type": "execute_result"
    }
   ],
   "source": [
    "y_hat"
   ]
  },
  {
   "cell_type": "code",
   "execution_count": 11,
   "id": "b3844ab8-d368-418c-a158-35ec33356670",
   "metadata": {},
   "outputs": [
    {
     "data": {
      "text/plain": [
       "93821    2.0\n",
       "88824    4.5\n",
       "15673    4.0\n",
       "62333    3.0\n",
       "80471    3.0\n",
       "        ... \n",
       "8433     4.0\n",
       "40701    5.0\n",
       "45537    4.0\n",
       "66989    3.0\n",
       "37544    4.5\n",
       "Name: rating, Length: 20168, dtype: float64"
      ]
     },
     "execution_count": 11,
     "metadata": {},
     "output_type": "execute_result"
    }
   ],
   "source": [
    "y_true"
   ]
  },
  {
   "cell_type": "code",
   "execution_count": 12,
   "id": "ccd2fd9a",
   "metadata": {},
   "outputs": [],
   "source": [
    "from keras.constraints import non_neg\n",
    "from keras.layers import Dot\n",
    "from keras.models import Model\n",
    "from keras.layers import Embedding, Flatten, Input\n",
    "\n",
    "latent_dim = 5\n",
    "\n",
    "movie_input = Input(shape=[1], name='movie-input')\n",
    "movie_embedding = Embedding(num_movies + 1, latent_dim, name='movie-embedding',\n",
    "                            embeddings_constraint=non_neg())(movie_input)\n",
    "movie_vec = Flatten(name='movie-flatten')(movie_embedding)\n",
    "\n",
    "user_input = Input(shape=[1], name='user-input')\n",
    "user_embedding = Embedding(num_users + 1, latent_dim, name='user-embedding',\n",
    "                           embeddings_constraint=non_neg())(user_input)\n",
    "user_vec = Flatten(name='user-flatten')(user_embedding)\n",
    "\n",
    "prod = Dot(axes=-1, normalize=False, name='dot-product')([movie_vec, user_vec])\n",
    "\n",
    "model = Model([user_input, movie_input], prod)\n",
    "model.compile('adam', 'mean_squared_error')\n",
    "\n",
    "\n"
   ]
  },
  {
   "cell_type": "markdown",
   "id": "499d313b",
   "metadata": {},
   "source": [
    "# NEURAL NETWORK WITH MF"
   ]
  },
  {
   "cell_type": "code",
   "execution_count": 13,
   "id": "024dcc75",
   "metadata": {},
   "outputs": [
    {
     "name": "stdout",
     "output_type": "stream",
     "text": [
      "Model: \"model_2\"\n",
      "__________________________________________________________________________________________________\n",
      " Layer (type)                Output Shape                 Param #   Connected to                  \n",
      "==================================================================================================\n",
      " movie-input (InputLayer)    [(None, 1)]                  0         []                            \n",
      "                                                                                                  \n",
      " user-input (InputLayer)     [(None, 1)]                  0         []                            \n",
      "                                                                                                  \n",
      " movie-embedding (Embedding  (None, 1, 10)                97250     ['movie-input[0][0]']         \n",
      " )                                                                                                \n",
      "                                                                                                  \n",
      " user-embedding (Embedding)  (None, 1, 10)                6110      ['user-input[0][0]']          \n",
      "                                                                                                  \n",
      " movie-flatten (Flatten)     (None, 10)                   0         ['movie-embedding[0][0]']     \n",
      "                                                                                                  \n",
      " user-flatten (Flatten)      (None, 10)                   0         ['user-embedding[0][0]']      \n",
      "                                                                                                  \n",
      " dot-product (Dot)           (None, 1)                    0         ['movie-flatten[0][0]',       \n",
      "                                                                     'user-flatten[0][0]']        \n",
      "                                                                                                  \n",
      " dropout (Dropout)           (None, 1)                    0         ['dot-product[0][0]']         \n",
      "                                                                                                  \n",
      " fc-1 (Dense)                (None, 100)                  200       ['dropout[0][0]']             \n",
      "                                                                                                  \n",
      " fc-1-dropout (Dropout)      (None, 100)                  0         ['fc-1[0][0]']                \n",
      "                                                                                                  \n",
      " fc-2 (Dense)                (None, 50)                   5050      ['fc-1-dropout[0][0]']        \n",
      "                                                                                                  \n",
      " fc-2-dropout (Dropout)      (None, 50)                   0         ['fc-2[0][0]']                \n",
      "                                                                                                  \n",
      " fc-3 (Dense)                (None, 1)                    51        ['fc-2-dropout[0][0]']        \n",
      "                                                                                                  \n",
      "==================================================================================================\n",
      "Total params: 108661 (424.46 KB)\n",
      "Trainable params: 108661 (424.46 KB)\n",
      "Non-trainable params: 0 (0.00 Byte)\n",
      "__________________________________________________________________________________________________\n"
     ]
    }
   ],
   "source": [
    "from keras.models import Model\n",
    "from keras.layers import Embedding, Flatten, Input, Dot, Dropout, Dense\n",
    "from keras.optimizers import Adam\n",
    "#from tensorflow.keras.optimizers import Adam\n",
    "\n",
    "latent_dim = 10\n",
    "\n",
    "movie_input = Input(shape=[1], name='movie-input')\n",
    "movie_embedding = Embedding(num_movies + 1, latent_dim, name='movie-embedding')(movie_input)\n",
    "movie_vec = Flatten(name='movie-flatten')(movie_embedding)\n",
    "\n",
    "user_input = Input(shape=[1], name='user-input')\n",
    "user_embedding = Embedding(num_users + 1, latent_dim, name='user-embedding')(user_input)\n",
    "user_vec = Flatten(name='user-flatten')(user_embedding)\n",
    "\n",
    "dot_product = Dot(axes=-1, name='dot-product')([movie_vec, user_vec])\n",
    "\n",
    "concat_dropout = Dropout(0.2)(dot_product)\n",
    "fc_1 = Dense(100, name='fc-1', activation='relu')(concat_dropout)\n",
    "fc_1_dropout = Dropout(0.2, name='fc-1-dropout')(fc_1)\n",
    "fc_2 = Dense(50, name='fc-2', activation='relu')(fc_1_dropout)\n",
    "fc_2_dropout = Dropout(0.2, name='fc-2-dropout')(fc_2)\n",
    "fc_3 = Dense(1, name='fc-3', activation='relu')(fc_2_dropout)\n",
    "\n",
    "model = Model([user_input, movie_input], fc_3)\n",
    "model.compile(optimizer=Adam(learning_rate=0.1), loss='mean_squared_error')\n",
    "\n",
    "# Print the model summary\n",
    "model.summary()\n"
   ]
  },
  {
   "cell_type": "code",
   "execution_count": 14,
   "id": "cd75a0ac",
   "metadata": {},
   "outputs": [
    {
     "name": "stdout",
     "output_type": "stream",
     "text": [
      "Epoch 1/10\n",
      "2521/2521 [==============================] - 12s 4ms/step - loss: 1.2950\n",
      "Epoch 2/10\n",
      "2521/2521 [==============================] - 9s 4ms/step - loss: 1.3908\n",
      "Epoch 3/10\n",
      "2521/2521 [==============================] - 9s 4ms/step - loss: 1.0973\n",
      "Epoch 4/10\n",
      "2521/2521 [==============================] - 9s 4ms/step - loss: 1.0977\n",
      "Epoch 5/10\n",
      "2521/2521 [==============================] - 10s 4ms/step - loss: 1.0973\n",
      "Epoch 6/10\n",
      "2521/2521 [==============================] - 12s 5ms/step - loss: 1.0986\n",
      "Epoch 7/10\n",
      "2521/2521 [==============================] - 9s 3ms/step - loss: 3.3140\n",
      "Epoch 8/10\n",
      "2521/2521 [==============================] - 9s 3ms/step - loss: 1.1285\n",
      "Epoch 9/10\n",
      "2521/2521 [==============================] - 9s 4ms/step - loss: 1.0978\n",
      "Epoch 10/10\n",
      "2521/2521 [==============================] - 9s 3ms/step - loss: 1.0977\n"
     ]
    },
    {
     "data": {
      "image/png": "[encoded data removed]",
      "text/plain": [
       "<Figure size 640x480 with 1 Axes>"
      ]
     },
     "metadata": {},
     "output_type": "display_data"
    },
    {
     "name": "stdout",
     "output_type": "stream",
     "text": [
      "631/631 [==============================] - 1s 2ms/step\n",
      "Mean Absolute Error: 0.8250446251487505\n"
     ]
    }
   ],
   "source": [
    "import matplotlib.pyplot as plt\n",
    "from sklearn.metrics import mean_absolute_error\n",
    "\n",
    "history = model.fit([train.user_id, train.movie_id], train.rating, epochs=10)\n",
    "\n",
    "plt.plot(history.history['loss'])\n",
    "plt.xlabel(\"Epoch\")\n",
    "plt.ylabel(\"Train Error\")\n",
    "plt.show()\n",
    "\n",
    "y_hat = np.round(model.predict([test.user_id, test.movie_id]), decimals=2)\n",
    "y_true = test.rating\n",
    "mae = mean_absolute_error(y_true, y_hat)\n",
    "print(\"Mean Absolute Error:\", mae)\n"
   ]
  },
  {
   "cell_type": "code",
   "execution_count": 15,
   "id": "a3d5c9a2-5e31-4ca8-871a-0f66f24358e1",
   "metadata": {},
   "outputs": [
    {
     "data": {
      "text/plain": [
       "93821    2.0\n",
       "88824    4.5\n",
       "15673    4.0\n",
       "62333    3.0\n",
       "80471    3.0\n",
       "        ... \n",
       "8433     4.0\n",
       "40701    5.0\n",
       "45537    4.0\n",
       "66989    3.0\n",
       "37544    4.5\n",
       "Name: rating, Length: 20168, dtype: float64"
      ]
     },
     "execution_count": 15,
     "metadata": {},
     "output_type": "execute_result"
    }
   ],
   "source": [
    "y_true"
   ]
  },
  {
   "cell_type": "code",
   "execution_count": 16,
   "id": "ec65a565-4483-4767-a1d3-037e84ae7c1b",
   "metadata": {},
   "outputs": [
    {
     "data": {
      "text/plain": [
       "array([[3.5],\n",
       "       [3.5],\n",
       "       [3.5],\n",
       "       ...,\n",
       "       [3.5],\n",
       "       [3.5],\n",
       "       [3.5]], dtype=float32)"
      ]
     },
     "execution_count": 16,
     "metadata": {},
     "output_type": "execute_result"
    }
   ],
   "source": [
    "y_hat"
   ]
  },
  {
   "cell_type": "markdown",
   "id": "23e69939",
   "metadata": {},
   "source": [
    "# MLP"
   ]
  },
  {
   "cell_type": "code",
   "execution_count": 17,
   "id": "9a6abfa4",
   "metadata": {},
   "outputs": [],
   "source": [
    "from keras.models import Model\n",
    "from keras.layers import Embedding, Flatten, Input, Dropout, Dense, BatchNormalization, Concatenate, Dot\n",
    "from keras.optimizers import Adam\n",
    "\n",
    "latent_dim = 10\n",
    "\n",
    "# Define inputs\n",
    "movie_input = Input(shape=[1], name='movie-input')\n",
    "user_input = Input(shape=[1], name='user-input')\n",
    "\n",
    "# MLP Embeddings\n",
    "movie_embedding_mlp = Embedding(num_movies + 1, latent_dim, name='movie-embedding-mlp')(movie_input)\n",
    "movie_vec_mlp = Flatten(name='flatten-movie-mlp')(movie_embedding_mlp)\n",
    "\n",
    "user_embedding_mlp = Embedding(num_users + 1, latent_dim, name='user-embedding-mlp')(user_input)\n",
    "user_vec_mlp = Flatten(name='flatten-user-mlp')(user_embedding_mlp)\n",
    "\n",
    "# MF Embeddings\n",
    "movie_embedding_mf = Embedding(num_movies + 1, latent_dim, name='movie-embedding-mf')(movie_input)\n",
    "movie_vec_mf = Flatten(name='flatten-movie-mf')(movie_embedding_mf)\n",
    "\n",
    "user_embedding_mf = Embedding(num_users + 1, latent_dim, name='user-embedding-mf')(user_input)\n",
    "user_vec_mf = Flatten(name='flatten-user-mf')(user_embedding_mf)\n",
    "\n",
    "# MLP layers\n",
    "concat = Concatenate(name='concat')([movie_vec_mlp, user_vec_mlp])\n",
    "concat_dropout = Dropout(0.2)(concat)\n",
    "fc_1 = Dense(100, name='fc-1', activation='relu')(concat_dropout)\n",
    "fc_1_bn = BatchNormalization(name='batch-norm-1')(fc_1)\n",
    "fc_1_dropout = Dropout(0.2)(fc_1_bn)\n",
    "fc_2 = Dense(50, name='fc-2', activation='relu')(fc_1_dropout)\n",
    "fc_2_bn = BatchNormalization(name='batch-norm-2')(fc_2)\n",
    "fc_2_dropout = Dropout(0.2)(fc_2_bn)\n",
    "\n",
    "# Prediction from both layers\n",
    "pred_mlp = Dense(10, name='pred-mlp', activation='relu')(fc_2_dropout)\n",
    "pred_mf = Dot(axes=-1, name='pred-mf')([movie_vec_mf, user_vec_mf])\n",
    "combine_mlp_mf = Concatenate(name='combine-mlp-mf')([pred_mf, pred_mlp])\n",
    "\n",
    "# Final prediction\n",
    "result = Dense(1, name='result', activation='relu')(combine_mlp_mf)\n",
    "\n",
    "model = Model([user_input, movie_input], result)\n",
    "model.compile(optimizer=Adam(learning_rate=0.01), loss='mean_absolute_error')\n",
    "\n",
    "# Since we're not using visualization, there's no need for the following lines:\n",
    "# SVG(model_to_dot(model, show_shapes=True).create(prog='dot', format='svg'))\n"
   ]
  },
  {
   "cell_type": "code",
   "execution_count": 18,
   "id": "95306e65",
   "metadata": {},
   "outputs": [
    {
     "name": "stdout",
     "output_type": "stream",
     "text": [
      "Model: \"model_3\"\n",
      "__________________________________________________________________________________________________\n",
      " Layer (type)                Output Shape                 Param #   Connected to                  \n",
      "==================================================================================================\n",
      " movie-input (InputLayer)    [(None, 1)]                  0         []                            \n",
      "                                                                                                  \n",
      " user-input (InputLayer)     [(None, 1)]                  0         []                            \n",
      "                                                                                                  \n",
      " movie-embedding-mlp (Embed  (None, 1, 10)                97250     ['movie-input[0][0]']         \n",
      " ding)                                                                                            \n",
      "                                                                                                  \n",
      " user-embedding-mlp (Embedd  (None, 1, 10)                6110      ['user-input[0][0]']          \n",
      " ing)                                                                                             \n",
      "                                                                                                  \n",
      " flatten-movie-mlp (Flatten  (None, 10)                   0         ['movie-embedding-mlp[0][0]'] \n",
      " )                                                                                                \n",
      "                                                                                                  \n",
      " flatten-user-mlp (Flatten)  (None, 10)                   0         ['user-embedding-mlp[0][0]']  \n",
      "                                                                                                  \n",
      " concat (Concatenate)        (None, 20)                   0         ['flatten-movie-mlp[0][0]',   \n",
      "                                                                     'flatten-user-mlp[0][0]']    \n",
      "                                                                                                  \n",
      " dropout_1 (Dropout)         (None, 20)                   0         ['concat[0][0]']              \n",
      "                                                                                                  \n",
      " fc-1 (Dense)                (None, 100)                  2100      ['dropout_1[0][0]']           \n",
      "                                                                                                  \n",
      " batch-norm-1 (BatchNormali  (None, 100)                  400       ['fc-1[0][0]']                \n",
      " zation)                                                                                          \n",
      "                                                                                                  \n",
      " dropout_2 (Dropout)         (None, 100)                  0         ['batch-norm-1[0][0]']        \n",
      "                                                                                                  \n",
      " fc-2 (Dense)                (None, 50)                   5050      ['dropout_2[0][0]']           \n",
      "                                                                                                  \n",
      " movie-embedding-mf (Embedd  (None, 1, 10)                97250     ['movie-input[0][0]']         \n",
      " ing)                                                                                             \n",
      "                                                                                                  \n",
      " user-embedding-mf (Embeddi  (None, 1, 10)                6110      ['user-input[0][0]']          \n",
      " ng)                                                                                              \n",
      "                                                                                                  \n",
      " batch-norm-2 (BatchNormali  (None, 50)                   200       ['fc-2[0][0]']                \n",
      " zation)                                                                                          \n",
      "                                                                                                  \n",
      " flatten-movie-mf (Flatten)  (None, 10)                   0         ['movie-embedding-mf[0][0]']  \n",
      "                                                                                                  \n",
      " flatten-user-mf (Flatten)   (None, 10)                   0         ['user-embedding-mf[0][0]']   \n",
      "                                                                                                  \n",
      " dropout_3 (Dropout)         (None, 50)                   0         ['batch-norm-2[0][0]']        \n",
      "                                                                                                  \n",
      " pred-mf (Dot)               (None, 1)                    0         ['flatten-movie-mf[0][0]',    \n",
      "                                                                     'flatten-user-mf[0][0]']     \n",
      "                                                                                                  \n",
      " pred-mlp (Dense)            (None, 10)                   510       ['dropout_3[0][0]']           \n",
      "                                                                                                  \n",
      " combine-mlp-mf (Concatenat  (None, 11)                   0         ['pred-mf[0][0]',             \n",
      " e)                                                                  'pred-mlp[0][0]']            \n",
      "                                                                                                  \n",
      " result (Dense)              (None, 1)                    12        ['combine-mlp-mf[0][0]']      \n",
      "                                                                                                  \n",
      "==================================================================================================\n",
      "Total params: 214992 (839.81 KB)\n",
      "Trainable params: 214692 (838.64 KB)\n",
      "Non-trainable params: 300 (1.17 KB)\n",
      "__________________________________________________________________________________________________\n"
     ]
    }
   ],
   "source": [
    "model.summary()"
   ]
  },
  {
   "cell_type": "code",
   "execution_count": 19,
   "id": "565db3bb",
   "metadata": {},
   "outputs": [
    {
     "name": "stdout",
     "output_type": "stream",
     "text": [
      "Epoch 1/10\n",
      "2521/2521 [==============================] - 15s 5ms/step - loss: 0.7780\n",
      "Epoch 2/10\n",
      "2521/2521 [==============================] - 12s 5ms/step - loss: 0.6394\n",
      "Epoch 3/10\n",
      "2521/2521 [==============================] - 12s 5ms/step - loss: 0.5677\n",
      "Epoch 4/10\n",
      "2521/2521 [==============================] - 12s 5ms/step - loss: 0.5243\n",
      "Epoch 5/10\n",
      "2521/2521 [==============================] - 12s 5ms/step - loss: 0.4942\n",
      "Epoch 6/10\n",
      "2521/2521 [==============================] - 12s 5ms/step - loss: 0.4744\n",
      "Epoch 7/10\n",
      "2521/2521 [==============================] - 12s 5ms/step - loss: 0.4589\n",
      "Epoch 8/10\n",
      "2521/2521 [==============================] - 12s 5ms/step - loss: 0.4449\n",
      "Epoch 9/10\n",
      "2521/2521 [==============================] - 12s 5ms/step - loss: 0.4340\n",
      "Epoch 10/10\n",
      "2521/2521 [==============================] - 12s 5ms/step - loss: 0.4280\n"
     ]
    },
    {
     "data": {
      "image/png": "[encoded data removed]",
      "text/plain": [
       "<Figure size 640x480 with 1 Axes>"
      ]
     },
     "metadata": {},
     "output_type": "display_data"
    },
    {
     "name": "stdout",
     "output_type": "stream",
     "text": [
      "631/631 [==============================] - 2s 2ms/step\n"
     ]
    },
    {
     "data": {
      "text/plain": [
       "0.7150788386202743"
      ]
     },
     "execution_count": 19,
     "metadata": {},
     "output_type": "execute_result"
    }
   ],
   "source": [
    "import matplotlib.pyplot as plt\n",
    "from sklearn.metrics import mean_absolute_error\n",
    "\n",
    "# Train the model\n",
    "history = model.fit([train.user_id, train.movie_id], train.rating, epochs=10)\n",
    "\n",
    "# Plot training loss\n",
    "plt.plot(history.history['loss'])\n",
    "plt.xlabel(\"Epoch\")\n",
    "plt.ylabel(\"Train Error\")\n",
    "plt.show()\n",
    "\n",
    "# Predict and calculate mean absolute error\n",
    "y_hat = np.round(model.predict([test.user_id, test.movie_id]), decimals=2)\n",
    "y_true = test.rating\n",
    "mean_absolute_error(y_true, y_hat)\n"
   ]
  },
  {
   "cell_type": "code",
   "execution_count": 20,
   "id": "79e3a27e-f53c-49a9-9ad5-f7fb049623d5",
   "metadata": {},
   "outputs": [
    {
     "data": {
      "text/plain": [
       "array([[3.04],\n",
       "       [4.18],\n",
       "       [3.67],\n",
       "       ...,\n",
       "       [3.12],\n",
       "       [3.25],\n",
       "       [3.76]], dtype=float32)"
      ]
     },
     "execution_count": 20,
     "metadata": {},
     "output_type": "execute_result"
    }
   ],
   "source": [
    "y_hat"
   ]
  },
  {
   "cell_type": "code",
   "execution_count": null,
   "id": "3f22043c-8b6a-4b05-8d71-495da5208888",
   "metadata": {},
   "outputs": [],
   "source": []
  },
  {
   "cell_type": "code",
   "execution_count": null,
   "id": "36277187",
   "metadata": {},
   "outputs": [],
   "source": []
  }
 ],
 "metadata": {
  "kernelspec": {
   "display_name": "Python 3 (ipykernel)",
   "language": "python",
   "name": "python3"
  },
  "language_info": {
   "codemirror_mode": {
    "name": "ipython",
    "version": 3
   },
   "file_extension": ".py",
   "mimetype": "text/x-python",
   "name": "python",
   "nbconvert_exporter": "python",
   "pygments_lexer": "ipython3",
   "version": "3.8.18"
  }
 },
 "nbformat": 4,
 "nbformat_minor": 5
}
